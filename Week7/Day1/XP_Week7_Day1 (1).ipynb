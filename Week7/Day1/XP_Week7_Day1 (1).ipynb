{
  "nbformat": 4,
  "nbformat_minor": 0,
  "metadata": {
    "colab": {
      "provenance": []
    },
    "kernelspec": {
      "name": "python3",
      "display_name": "Python 3"
    },
    "language_info": {
      "name": "python"
    }
  },
  "cells": [
    {
      "cell_type": "code",
      "source": [
        "import numpy as np\n",
        "import seaborn as sns\n",
        "import matplotlib.pyplot as plt"
      ],
      "metadata": {
        "id": "zH4A2gdrBegi"
      },
      "execution_count": null,
      "outputs": []
    },
    {
      "cell_type": "code",
      "source": [
        "#Exercise 1: Array Creation and Manipulation\n",
        "d_array = np.arange(10)\n",
        "print(d_array)"
      ],
      "metadata": {
        "colab": {
          "base_uri": "https://localhost:8080/"
        },
        "id": "FtDlYS-hBlVG",
        "outputId": "cd045c9d-e1a1-467b-b069-a93c4ebda694"
      },
      "execution_count": null,
      "outputs": [
        {
          "output_type": "stream",
          "name": "stdout",
          "text": [
            "[0 1 2 3 4 5 6 7 8 9]\n"
          ]
        }
      ]
    },
    {
      "cell_type": "code",
      "source": [
        "#Exercise 2: Type conversion and Array Operations\n",
        "#Convert a list [3.14, 2.17, 0, 1, 2] into a NumPy array and convert its data type to integer.\n",
        "list_to_array = np.array([3.14, 2.17, 0, 1, 2], dtype=int)\n",
        "print(list_to_array)"
      ],
      "metadata": {
        "colab": {
          "base_uri": "https://localhost:8080/"
        },
        "id": "DfBpejr6DGqN",
        "outputId": "8b194125-d94b-4dd2-d042-5e40ac0323d9"
      },
      "execution_count": null,
      "outputs": [
        {
          "output_type": "stream",
          "name": "stdout",
          "text": [
            "[3 2 0 1 2]\n"
          ]
        }
      ]
    },
    {
      "cell_type": "code",
      "source": [
        "#Exercise 3: Working with multidimensional array\n",
        "#create a 3x3 NumPy array with values ranging from 1 to 9.\n",
        "\n",
        "multi_array = np.arange(1, 10).reshape(3, 3)\n",
        "print(multi_array)\n",
        "\n",
        "#Expected output:\n",
        "#array([[1, 2, 3],\n",
        "             #[4, 5, 6],\n",
        "             #[7, 8, 9]])\n",
        "\n"
      ],
      "metadata": {
        "colab": {
          "base_uri": "https://localhost:8080/"
        },
        "id": "LEY0XMmeDgWq",
        "outputId": "6f174ceb-4135-49f7-f2b9-2d60876f8006"
      },
      "execution_count": null,
      "outputs": [
        {
          "output_type": "stream",
          "name": "stdout",
          "text": [
            "[[1 2 3]\n",
            " [4 5 6]\n",
            " [7 8 9]]\n"
          ]
        }
      ]
    },
    {
      "cell_type": "code",
      "source": [
        "#Exercise  4: Creating Multi-dimensional array with random numbers\n",
        "#Create a 2D NumPy array of shape (4, 5) filled with random numbers. = np.random.rand(rows, columns))\n",
        "array_a = np.random.rand(4, 5)\n",
        "print(array_a)\n",
        "#Expected Output:\n",
        "#array([[0.56, 0.85, 0.01, 0.42, 0.68],\n",
        "  #    [0.22, 0.37, 0.73, 0.93, 0.39],\n",
        "   #    [0.44, 0.03, 0.87, 0.02, 0.83],\n",
        "    #   [0.78, 0.87, 0.98, 0.80, 0.46]])\n"
      ],
      "metadata": {
        "colab": {
          "base_uri": "https://localhost:8080/"
        },
        "id": "7StWlM5cEitr",
        "outputId": "0211bf83-ff18-4dd7-c898-f0a0d534201c"
      },
      "execution_count": null,
      "outputs": [
        {
          "output_type": "stream",
          "name": "stdout",
          "text": [
            "[[0.99854466 0.03935494 0.0962366  0.06087329 0.42204325]\n",
            " [0.77945429 0.10788117 0.27094457 0.64803299 0.28656652]\n",
            " [0.98079812 0.52588487 0.52180103 0.28018125 0.14272617]\n",
            " [0.87428871 0.0913729  0.48494596 0.90496585 0.88267851]]\n"
          ]
        }
      ]
    },
    {
      "cell_type": "code",
      "source": [
        "#Exercise 5: Select the second row from a given 2D numpy array\n",
        "numpy_array = np.array([[1, 2, 3], [4, 5, 6], [7, 8, 9]])\n",
        "second_row = numpy_array[1]\n",
        "print(second_row)\n",
        "\n",
        "#Explained:\n",
        "#numpy_array[0] -> First Row\n",
        "#numpy_array[1] -> Second Row\n",
        "#numpy_array[2] -> Third Row"
      ],
      "metadata": {
        "colab": {
          "base_uri": "https://localhost:8080/"
        },
        "id": "_zOBoIlxFuWH",
        "outputId": "eca05c70-bb56-4b29-a81e-d73efce69f37"
      },
      "execution_count": null,
      "outputs": [
        {
          "output_type": "stream",
          "name": "stdout",
          "text": [
            "[4 5 6]\n"
          ]
        }
      ]
    },
    {
      "cell_type": "code",
      "source": [
        "#Exercise 6: Reversing Elements\n",
        "#Reverse the order of elements in a given 1D NumPy array (first element becomes the last)\n",
        "\n",
        "array_b = np.array([1, 2, 3, 4, 5])\n",
        "reversed_array = array_b[::-1]\n",
        "print(reversed_array)"
      ],
      "metadata": {
        "colab": {
          "base_uri": "https://localhost:8080/"
        },
        "id": "3Cfsf--BFuMO",
        "outputId": "4d53c156-92a7-4da2-dc77-94eb7f467b15"
      },
      "execution_count": null,
      "outputs": [
        {
          "output_type": "stream",
          "name": "stdout",
          "text": [
            "[5 4 3 2 1]\n"
          ]
        }
      ]
    },
    {
      "cell_type": "code",
      "source": [
        "#Exercise 7: Identity Matrix\n",
        "#Create a 4x4 identity matrix using numpy\n",
        "identity_matrix = np.eye(4)\n",
        "print(identity_matrix)\n",
        "#"
      ],
      "metadata": {
        "colab": {
          "base_uri": "https://localhost:8080/"
        },
        "id": "m3je3z1XFaSr",
        "outputId": "5d1e2953-6358-4a4e-f70b-57c0ce3ce69e"
      },
      "execution_count": null,
      "outputs": [
        {
          "output_type": "stream",
          "name": "stdout",
          "text": [
            "[[1. 0. 0. 0.]\n",
            " [0. 1. 0. 0.]\n",
            " [0. 0. 1. 0.]\n",
            " [0. 0. 0. 1.]]\n"
          ]
        }
      ]
    },
    {
      "cell_type": "code",
      "source": [
        "#Exercise 8: Simple Aggregate Functions\n",
        "#Find the sum and average of a given 1D array\n",
        "array_n = np.array([2,4,6,8])\n",
        "array_sum = np.sum(array_n)\n",
        "array_average = np.mean(array_n)\n",
        "print(array_sum)\n",
        "print(array_average)"
      ],
      "metadata": {
        "colab": {
          "base_uri": "https://localhost:8080/"
        },
        "id": "A65Rh2M6UxOL",
        "outputId": "83878e38-9613-44d0-fa0b-7926612366ec"
      },
      "execution_count": null,
      "outputs": [
        {
          "output_type": "stream",
          "name": "stdout",
          "text": [
            "20\n",
            "5.0\n"
          ]
        }
      ]
    },
    {
      "cell_type": "code",
      "source": [
        "#Exercise 9: Create Array  and change its structure\n",
        "#create a numpy array with elements from 1 to 20; then reshape it into a 4x5  matrix\n",
        "array_c = np.arange(1, 21).reshape(4, 5)\n",
        "print(array_c)\n",
        "#array_c_sum = np.sum(array_c) -> for sum\n",
        "#print(array_c_sum)"
      ],
      "metadata": {
        "colab": {
          "base_uri": "https://localhost:8080/"
        },
        "id": "No5MtI6YVRio",
        "outputId": "4f4b6ae3-ec54-4990-f398-27f8e25d76b2"
      },
      "execution_count": null,
      "outputs": [
        {
          "output_type": "stream",
          "name": "stdout",
          "text": [
            "[[ 1  2  3  4  5]\n",
            " [ 6  7  8  9 10]\n",
            " [11 12 13 14 15]\n",
            " [16 17 18 19 20]]\n",
            "210\n"
          ]
        }
      ]
    },
    {
      "cell_type": "code",
      "source": [
        "#Exercise 10: Extract all odd numbers from a given NumPy array\n",
        "\n",
        "arr = np.arange(100)\n",
        "# Extract all odd numbers from the array\n",
        "odd_arr = arr[arr % 2 != 0]\n",
        "print(odd_arr)\n",
        "\n",
        "\n",
        "\n",
        "#Extra Work: Extracting all even numbers\n",
        "even_arr = arr[arr % 2 == 0]\n",
        "print(even_arr)"
      ],
      "metadata": {
        "id": "LTu0cbVCWBIO",
        "colab": {
          "base_uri": "https://localhost:8080/"
        },
        "outputId": "cabf0677-aea3-4f7f-c8ef-3e707c50a9f3"
      },
      "execution_count": 49,
      "outputs": [
        {
          "output_type": "stream",
          "name": "stdout",
          "text": [
            "[ 1  3  5  7  9 11 13 15 17 19 21 23 25 27 29 31 33 35 37 39 41 43 45 47\n",
            " 49 51 53 55 57 59 61 63 65 67 69 71 73 75 77 79 81 83 85 87 89 91 93 95\n",
            " 97 99]\n",
            "[ 0  2  4  6  8 10 12 14 16 18 20 22 24 26 28 30 32 34 36 38 40 42 44 46\n",
            " 48 50 52 54 56 58 60 62 64 66 68 70 72 74 76 78 80 82 84 86 88 90 92 94\n",
            " 96 98]\n"
          ]
        }
      ]
    },
    {
      "cell_type": "code",
      "source": [],
      "metadata": {
        "id": "B__nAKO_YxBu"
      },
      "execution_count": 43,
      "outputs": []
    }
  ]
}