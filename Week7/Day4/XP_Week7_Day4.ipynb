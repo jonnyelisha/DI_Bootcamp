{
  "nbformat": 4,
  "nbformat_minor": 0,
  "metadata": {
    "colab": {
      "provenance": []
    },
    "kernelspec": {
      "name": "python3",
      "display_name": "Python 3"
    },
    "language_info": {
      "name": "python"
    }
  },
  "cells": [
    {
      "cell_type": "code",
      "execution_count": 2,
      "metadata": {
        "id": "3zfmEmhVcg56"
      },
      "outputs": [],
      "source": [
        "import scipy.stats as stats\n",
        "import numpy as np\n",
        "import pandas as pd\n",
        "import numpy as np\n",
        "import matplotlib.pyplot as plt\n",
        "import seaborn as sns\n",
        "from scipy.stats import binom, spearmanr, pearsonr\n",
        "from scipy import stats"
      ]
    },
    {
      "cell_type": "markdown",
      "source": [
        " # 🌟 Exercise 1 : Linear Regression Analysis\n",
        "\n",
        "Objective: Apply linear regression to a dataset and interpret the results.\n",
        "\n",
        "Task: Given a dataset of housing prices (house_prices) and their corresponding sizes (house_sizes), use linear regression to predict the price of a house given its size.\n",
        "\n",
        "\n",
        "\n",
        "\n",
        "1.   What is the slope and intercept of the regression line?\n",
        "2.   Predict the price of a house that is 90 square meters.\n",
        "3. Interpret the meaning of the slope in the context of housing prices."
      ],
      "metadata": {
        "id": "7VJHH6Dhcnog"
      }
    },
    {
      "cell_type": "code",
      "source": [
        "house_sizes_sm =  [50, 70, 80, 100, 120]\n",
        "house_prices = [150000, 200000, 210000, 250000, 280000]\n",
        "\n",
        "slope, intercept, r_value, p_value, std_err = stats.linregress(house_sizes_sm, house_prices)\n",
        "#1.\n",
        "print(slope, intercept)\n",
        "\n",
        "#2.\n",
        "predicted_price = slope * 90 + intercept\n",
        "print(predicted_price)\n",
        "\n",
        "#3.\n",
        "# The slope in the context of housing prices represents the rate at which the price of a house increases per unit increase in its size (square meters).\n"
      ],
      "metadata": {
        "colab": {
          "base_uri": "https://localhost:8080/"
        },
        "id": "opoZjnOah8hg",
        "outputId": "ff9e783b-0316-421c-e6f3-88d3a04f8000"
      },
      "execution_count": null,
      "outputs": [
        {
          "output_type": "stream",
          "name": "stdout",
          "text": [
            "1828.7671232876712 64383.56164383562\n",
            "228972.60273972602\n"
          ]
        }
      ]
    },
    {
      "cell_type": "markdown",
      "source": [
        "🌟 Exercise 2 : Understanding ANOVA\n",
        "Instructions\n",
        "Objective: Test understanding of ANOVA and its application.\n",
        "\n",
        "Task: Three different fertilizers are applied to three separate groups of plants to test their effectiveness. The growth in centimeters is recorded.\n",
        "\n",
        "Dataset:\n",
        "\n",
        "fertilizer_1: [5, 6, 7, 6, 5]\n",
        "fertilizer_2: [7, 8, 7, 9, 8]\n",
        "fertilizer_3: [4, 5, 4, 3, 4]\n",
        "Questions:\n",
        "\n",
        "Perform an ANOVA test on the given data. What are the F-value and P-value?\n",
        "Based on the P-value, do the fertilizers have significantly different effects on plant growth?\n",
        "Explain what would happen if the P-value were greater than 0.05.\n"
      ],
      "metadata": {
        "id": "gqQXvPtppgKO"
      }
    },
    {
      "cell_type": "code",
      "source": [
        "fertilizer_1 = [5, 6, 7, 6, 5]\n",
        "fertilizer_2 =  [7, 8, 7, 9, 8]\n",
        "fertilizer_3 =  [4, 5, 4, 3, 4]\n",
        "\n",
        "f_value, p_value = stats.f_oneway(fertilizer_1, fertilizer_2, fertilizer_3)\n",
        "print(\"F-value:\", f_value)\n",
        "print(\"P-value:\", p_value)"
      ],
      "metadata": {
        "colab": {
          "base_uri": "https://localhost:8080/"
        },
        "id": "AEBPbkdyiXVj",
        "outputId": "2b49b81d-513a-45d6-e3e0-e1836a66801a"
      },
      "execution_count": null,
      "outputs": [
        {
          "output_type": "stream",
          "name": "stdout",
          "text": [
            "F-value: 28.52631578947368\n",
            "P-value: 2.7542672098048448e-05\n"
          ]
        }
      ]
    },
    {
      "cell_type": "markdown",
      "source": [
        "As we can see that the p value is low (lower than 0.05) and there's a difference regarding the f value then we can say that there's an effect on plants among the different fertilizer.\n",
        "If the P value were greater than 0.05 means that there's less correlation between the results and the study, meaning that the probability that we can have the same result are less likely."
      ],
      "metadata": {
        "id": "ViYh4MGVqW8O"
      }
    },
    {
      "cell_type": "markdown",
      "source": [
        "# 🌟 Exercise 3 : Probability Distributions\n",
        "\n",
        "Work with a binomial distribution: calculate probabilities for different numbers of successes.\n",
        "\n"
      ],
      "metadata": {
        "id": "LYZrqai8qvVL"
      }
    },
    {
      "cell_type": "code",
      "source": [
        "from scipy.stats import binom\n",
        "\n",
        "n = 10\n",
        "p = 0.5\n",
        "\n",
        "# Number of successes we want to find the probability for\n",
        "k = 5  # Getting exactly 5 heads\n",
        "\n",
        "# Calculate the probability\n",
        "probability = binom.pmf(k, n, p)\n"
      ],
      "metadata": {
        "colab": {
          "base_uri": "https://localhost:8080/"
        },
        "id": "aMkbkMUzqQdv",
        "outputId": "24ded363-5233-4bbb-fc57-a0344920e3d2"
      },
      "execution_count": null,
      "outputs": [
        {
          "output_type": "stream",
          "name": "stdout",
          "text": [
            "r\tp(r)\n",
            "0\t0.0009765624999999989\n",
            "1\t0.009765625000000002\n",
            "2\t0.04394531250000004\n",
            "3\t0.1171875\n",
            "4\t0.2050781249999999\n",
            "5\t0.24609375000000003\n",
            "6\t0.2050781249999999\n",
            "7\t0.11718749999999999\n",
            "8\t0.04394531250000004\n",
            "9\t0.009765625000000002\n",
            "10\t0.0009765625\n",
            "mean = 5.0\n",
            "variance = 2.5\n"
          ]
        }
      ]
    },
    {
      "cell_type": "markdown",
      "source": [
        "# 🌟 Exercise 4 : Correlation Coefficients\n",
        "\n",
        "Calculate the Pearson and Spearman correlation coefficients between two variables in a dataset."
      ],
      "metadata": {
        "id": "ZU1Mm845G3KR"
      }
    },
    {
      "cell_type": "code",
      "source": [
        "df = pd.DataFrame({'age': [23, 25, 30, 35, 40], 'income': [35000, 40000, 50000, 60000, 70000]})\n",
        "\n",
        "corr, _ = pearsonr(df['age'], df['income'])\n",
        "print(f'Pearson Correlation Coefficient: {corr:.2f}')\n",
        "\n",
        "# Calculate Spearman Rank Correlation\n",
        "corr, _ = spearmanr(df['age'], df['income'])\n",
        "print(f'Spearman Rank Correlation: {corr:.2f}')"
      ],
      "metadata": {
        "id": "PyEcc09cp3Y3",
        "colab": {
          "base_uri": "https://localhost:8080/"
        },
        "outputId": "67fc33d3-24aa-4dbc-cabb-82f476e102a8"
      },
      "execution_count": 4,
      "outputs": [
        {
          "output_type": "stream",
          "name": "stdout",
          "text": [
            "Pearson Correlation Coefficient: 1.00\n",
            "Spearman Rank Correlation: 1.00\n"
          ]
        }
      ]
    },
    {
      "cell_type": "markdown",
      "source": [
        "🌟 Exercise 5 : Linear Relationships\n",
        "Instructions\n",
        "Create a scatter plot of two variables (age and income) and visually assess the linear relationship. Use the dataset from Exercise 7."
      ],
      "metadata": {
        "id": "zxcWRCLgIO_5"
      }
    },
    {
      "cell_type": "markdown",
      "source": [
        "With the Pearson Correlation Coefficient and Spearman Rank Correlation being close to 1 it shows that there is a positive correlation between age and income."
      ],
      "metadata": {
        "id": "wPVf5og-H-l5"
      }
    },
    {
      "cell_type": "code",
      "source": [
        "plt.figure(figsize=(8, 6))\n",
        "plt.scatter(df['age'], df['income'])\n",
        "plt.xlabel('Age')\n",
        "plt.ylabel('Income')\n",
        "plt.title('Scatter Plot of Age and Income')\n",
        "plt.grid()\n",
        "plt.show()"
      ],
      "metadata": {
        "colab": {
          "base_uri": "https://localhost:8080/",
          "height": 530
        },
        "id": "07-nJZ84Hk1n",
        "outputId": "38c7efed-3375-404e-9116-83774cf988c1"
      },
      "execution_count": 5,
      "outputs": [
        {
          "output_type": "display_data",
          "data": {
            "text/plain": [
              "<Figure size 800x600 with 1 Axes>"
            ],
            "image/png": "[encoded data removed]"
          },
          "metadata": {}
        }
      ]
    },
    {
      "cell_type": "code",
      "source": [],
      "metadata": {
        "id": "J2idnH0JIlU4"
      },
      "execution_count": null,
      "outputs": []
    }
  ]
}