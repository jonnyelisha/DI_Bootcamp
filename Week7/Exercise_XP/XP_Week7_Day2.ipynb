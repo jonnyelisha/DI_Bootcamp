{
  "nbformat": 4,
  "nbformat_minor": 0,
  "metadata": {
    "colab": {
      "provenance": []
    },
    "kernelspec": {
      "name": "python3",
      "display_name": "Python 3"
    },
    "language_info": {
      "name": "python"
    }
  },
  "cells": [
    {
      "cell_type": "code",
      "execution_count": 1,
      "metadata": {
        "id": "JiajC6qQasZx"
      },
      "outputs": [],
      "source": [
        "import numpy as np\n",
        "import pandas as pd"
      ]
    },
    {
      "cell_type": "markdown",
      "source": [
        "Exercise 1: Matrix Operations: Create a 3x3 matrix and perform the following operations:\n",
        "\n",
        "1. Calculate the determinant\n",
        "2. find the inverse of the matrix\n"
      ],
      "metadata": {
        "id": "b3B-tjRTbYzR"
      }
    },
    {
      "cell_type": "code",
      "source": [],
      "metadata": {
        "id": "EbwHp9gebsyl"
      },
      "execution_count": null,
      "outputs": []
    },
    {
      "cell_type": "code",
      "source": [
        "\n",
        "matrix = np.random.randint(1,9, size=(3,3))\n",
        "print(matrix)\n",
        "\n",
        "# calculating the determinant of  the matrix\n",
        "det = np.linalg.det(matrix)\n",
        "\n",
        "print(\"\\nDeterminant of given 3x3 matrix:\")\n",
        "print(int(det))\n",
        "\n",
        "print(\"\\nInverse of given 3x3 matrix:\")\n",
        "inv = np.linalg.inv(matrix)\n",
        "inv"
      ],
      "metadata": {
        "colab": {
          "base_uri": "https://localhost:8080/"
        },
        "id": "t-eNG35WauHc",
        "outputId": "bba4d6b8-10ab-4081-861f-d5617f60710c"
      },
      "execution_count": 11,
      "outputs": [
        {
          "output_type": "stream",
          "name": "stdout",
          "text": [
            "[[8 8 4]\n",
            " [7 5 1]\n",
            " [2 5 1]]\n",
            "\n",
            "Determinant of given 3x3 matrix:\n",
            "59\n",
            "\n",
            "Inverse of given 3x3 matrix:\n"
          ]
        },
        {
          "output_type": "execute_result",
          "data": {
            "text/plain": [
              "array([[-4.16333634e-17,  2.00000000e-01, -2.00000000e-01],\n",
              "       [-8.33333333e-02,  0.00000000e+00,  3.33333333e-01],\n",
              "       [ 4.16666667e-01, -4.00000000e-01, -2.66666667e-01]])"
            ]
          },
          "metadata": {},
          "execution_count": 11
        }
      ]
    },
    {
      "cell_type": "code",
      "source": [],
      "metadata": {
        "id": "P_OLXeoUa6zd"
      },
      "execution_count": 11,
      "outputs": []
    },
    {
      "cell_type": "markdown",
      "source": [
        "Exercise 2: Statistical Analysis Using NumPy, generate an array of 50 random numbers and compute:\n",
        "1. The mean and median\n",
        "2. The Standard Deviation\n",
        "\n"
      ],
      "metadata": {
        "id": "nyzjdkNDb9mS"
      }
    },
    {
      "cell_type": "code",
      "source": [
        "#generate an array of 50 random numbers\n",
        "array = np.random.randint(1,50, size = (1,50))\n",
        "print(array)\n",
        "\n",
        "#compute the mean\n",
        "array_mean = np.mean(array)\n",
        "print(f\"The mean of the array is {array_mean}\")\n",
        "#compute the median\n",
        "array_median = np.median(array)\n",
        "print(f\"The median is {array_median}\")\n",
        "\n",
        "#compute the standard deviation\n",
        "array_stnd = np.std(array)\n",
        "print(f\"The standard deviation is {array_stnd}\")\n"
      ],
      "metadata": {
        "colab": {
          "base_uri": "https://localhost:8080/"
        },
        "id": "oHs47CqucPnt",
        "outputId": "bd2f30e3-a7de-48b0-ebdb-35bfe6c31da0"
      },
      "execution_count": 14,
      "outputs": [
        {
          "output_type": "stream",
          "name": "stdout",
          "text": [
            "[[11 26 46  8 39 29 26 37 36 41 34 10 32 30 20  3 15 22 11 22  8 14 42 27\n",
            "   5 45  9 14 13 20 36  6 35 10 10 17 28 26 19  9 23 49 25 38 11  1 12 24\n",
            "  15 45]]\n",
            "The mean of the array is 22.68\n",
            "The median is 22.0\n",
            "The standard deviation is 12.83189775520363\n"
          ]
        }
      ]
    },
    {
      "cell_type": "markdown",
      "source": [
        "Exercise 3: Create a NumPy array of dates for the month of January 2023. Convert these dates to another format (e.g., YYYY/MM/DD)."
      ],
      "metadata": {
        "id": "BOCETcr5eJIm"
      }
    },
    {
      "cell_type": "code",
      "source": [
        "# Creating date ranges\n",
        "dates = np.arange('2023-01', '2023-02', dtype='datetime64[D]')\n",
        "print(\"January 2023 Dates:\\n\", dates)\n",
        "\n",
        "# Converting dates to a different format\n",
        "formatted_dates = np.datetime_as_string(dates, unit='D')\n",
        "print(\"Formatted Dates:\\n\", formatted_dates)"
      ],
      "metadata": {
        "colab": {
          "base_uri": "https://localhost:8080/"
        },
        "id": "CVuGsbPneS87",
        "outputId": "9ddb189e-79a4-465c-c0bb-29326a8c81ad"
      },
      "execution_count": 16,
      "outputs": [
        {
          "output_type": "stream",
          "name": "stdout",
          "text": [
            "January 2023 Dates:\n",
            " ['2023-01-01' '2023-01-02' '2023-01-03' '2023-01-04' '2023-01-05'\n",
            " '2023-01-06' '2023-01-07' '2023-01-08' '2023-01-09' '2023-01-10'\n",
            " '2023-01-11' '2023-01-12' '2023-01-13' '2023-01-14' '2023-01-15'\n",
            " '2023-01-16' '2023-01-17' '2023-01-18' '2023-01-19' '2023-01-20'\n",
            " '2023-01-21' '2023-01-22' '2023-01-23' '2023-01-24' '2023-01-25'\n",
            " '2023-01-26' '2023-01-27' '2023-01-28' '2023-01-29' '2023-01-30'\n",
            " '2023-01-31']\n",
            "Formatted Dates:\n",
            " ['2023-01-01' '2023-01-02' '2023-01-03' '2023-01-04' '2023-01-05'\n",
            " '2023-01-06' '2023-01-07' '2023-01-08' '2023-01-09' '2023-01-10'\n",
            " '2023-01-11' '2023-01-12' '2023-01-13' '2023-01-14' '2023-01-15'\n",
            " '2023-01-16' '2023-01-17' '2023-01-18' '2023-01-19' '2023-01-20'\n",
            " '2023-01-21' '2023-01-22' '2023-01-23' '2023-01-24' '2023-01-25'\n",
            " '2023-01-26' '2023-01-27' '2023-01-28' '2023-01-29' '2023-01-30'\n",
            " '2023-01-31']\n"
          ]
        }
      ]
    },
    {
      "cell_type": "markdown",
      "source": [
        "🌟 Exercise 4 : Data Manipulation With NumPy And Pandas\n",
        "Instructions\n",
        "Create a DataFrame with random numbers and perform:\n",
        "\n",
        "Conditional selection of data.\n",
        "Aggregation functions like sum and average."
      ],
      "metadata": {
        "id": "0M4hP6pbej7q"
      }
    },
    {
      "cell_type": "code",
      "source": [
        "array = np.random.randint(1, 20, size=20)\n",
        "array_df = pd.DataFrame({\n",
        "    'Random': array})\n",
        "print(array_df)\n",
        "\n",
        "# Conditional selection of data\n",
        "select = array_df.loc[(array_df.index == 10), 'Random'].values[0]\n",
        "print(f\"Conditional selection of data =\",select )\n",
        "\n",
        "# Aggregation functions like sum and average\n",
        "sum = np.sum(array_df).values[0]\n",
        "print(f\"The sum of the array is =\",sum)"
      ],
      "metadata": {
        "colab": {
          "base_uri": "https://localhost:8080/"
        },
        "id": "btOKJeEcetTU",
        "outputId": "6e6ef3cc-df58-4a2a-8a5e-825c8a65ba80"
      },
      "execution_count": 18,
      "outputs": [
        {
          "output_type": "stream",
          "name": "stdout",
          "text": [
            "    Random\n",
            "0        9\n",
            "1       18\n",
            "2       15\n",
            "3        3\n",
            "4       13\n",
            "5       13\n",
            "6        2\n",
            "7       11\n",
            "8        4\n",
            "9        4\n",
            "10       4\n",
            "11       9\n",
            "12      15\n",
            "13       2\n",
            "14       3\n",
            "15       2\n",
            "16      14\n",
            "17       9\n",
            "18       9\n",
            "19       4\n",
            "Conditional selection of data = 4\n",
            "The sum of the array is = 163\n"
          ]
        }
      ]
    },
    {
      "cell_type": "markdown",
      "source": [
        "🌟 Exercise 5 : Image Representation\n",
        "Instructions\n",
        "Explain how images are represented in NumPy arrays and demonstrate with a simple example (e.g., creating a 5x5 grayscale image)\n"
      ],
      "metadata": {
        "id": "o-icjiczfDn2"
      }
    },
    {
      "cell_type": "code",
      "source": [
        "from matplotlib import pyplot as plt\n",
        "\n",
        "grayscale_image = np.random.randint(0, 256, size=(5, 5), dtype=np.uint8)\n",
        "\n",
        "plt.imshow(grayscale_image, cmap='gray')\n",
        "plt.colorbar();"
      ],
      "metadata": {
        "colab": {
          "base_uri": "https://localhost:8080/",
          "height": 430
        },
        "id": "Fyxx2l8MfJGX",
        "outputId": "b74342a1-944d-4a87-c2b3-70848663890b"
      },
      "execution_count": 25,
      "outputs": [
        {
          "output_type": "display_data",
          "data": {
            "text/plain": [
              "<Figure size 640x480 with 2 Axes>"
            ],
            "image/png": "[encoded data removed]"
          },
          "metadata": {}
        }
      ]
    },
    {
      "cell_type": "code",
      "source": [],
      "metadata": {
        "id": "OK1Ll2i3faF0"
      },
      "execution_count": null,
      "outputs": []
    },
    {
      "cell_type": "markdown",
      "source": [
        "🌟 Exercise 6 : Basic Hypothesis Testing\n",
        "Instructions\n",
        "Create a sample dataset to test the effectiveness of a new training program on employee productivity:\n"
      ],
      "metadata": {
        "id": "LRmr8I-wgiDF"
      }
    },
    {
      "cell_type": "code",
      "source": [
        "import numpy as np\n",
        "\n",
        "# Productivity scores of employees before the training program\n",
        "productivity_before = np.random.normal(loc=50, scale=10, size=30)\n",
        "\n",
        "# Productivity scores of the same employees after the training program\n",
        "productivity_after = productivity_before + np.random.normal(loc=5, scale=3, size=30)\n"
      ],
      "metadata": {
        "id": "TcneC_mEgnHk"
      },
      "execution_count": null,
      "outputs": []
    },
    {
      "cell_type": "markdown",
      "source": [
        "Exercise 7: Create two arrays and perform element-wise comparison to find which elements are greater in the first array.\n",
        "\n",
        "The expected output is a boolean array showing which elements in the first array are greater than the corresponding elements in the second array."
      ],
      "metadata": {
        "id": "B1hO_u6Ah4h_"
      }
    },
    {
      "cell_type": "code",
      "source": [
        "array_1 = np.random.randint(1, 50, size=50)\n",
        "array_2 = np.random.randint(1, 50, size=50)\n",
        "if array_1[0] > array_2[0]: #to test\n",
        "  print (\"First element from array 1 is greater than 2 \")\n",
        "else:\n",
        "  print (\"First element from array 2 is greater than 1 \")\n",
        "\n",
        "# Perform element-wise comparison\n",
        "result = array_1 > array_2\n",
        "\n",
        "# Print the boolean array\n",
        "print(result)"
      ],
      "metadata": {
        "colab": {
          "base_uri": "https://localhost:8080/"
        },
        "id": "o8QaBdxOiP2F",
        "outputId": "b3162e08-f34e-4097-ea74-5d180c14a999"
      },
      "execution_count": 26,
      "outputs": [
        {
          "output_type": "stream",
          "name": "stdout",
          "text": [
            "First element from array 1 is greater than 2 \n",
            "[ True  True  True  True  True  True False False False False False  True\n",
            " False False False  True  True False False False  True False  True False\n",
            "  True False False False  True False False  True  True  True False False\n",
            "  True  True False False False False False False  True False  True  True\n",
            " False False]\n"
          ]
        }
      ]
    },
    {
      "cell_type": "markdown",
      "source": [
        "# 🌟 Exercise 8 : Time Series Data Manipulation\n",
        "Generate time series data for the year 2023. Demonstrate slicing for the following intervals:\n",
        "\n",
        "January to March\n",
        "* April to June\n",
        "* July to September\n",
        "* October to December\n",
        "\n",
        "Generate a time series data for a specific period and demonstrate how to slice this data for different intervals."
      ],
      "metadata": {
        "id": "DgSP7oOiifAJ"
      }
    },
    {
      "cell_type": "code",
      "source": [
        "dates = np.arange('2023-01', '2024-01', dtype='datetime64[D]')\n",
        "\n",
        "# Convert string representations of dates to datetime64\n",
        "start_date = np.datetime64('2023-01-01')\n",
        "end_date = np.datetime64('2023-03-31')\n",
        "\n",
        "# Select the dates falling within January to March\n",
        "jan_mar = dates[(dates >= start_date) & (dates <= end_date)]\n",
        "\n",
        "# Display the selected dates for January to March\n",
        "print(\"\\nDates from January to March 2023:\")\n",
        "print(jan_mar)\n",
        "\n",
        "# Select the dates falling within July to September\n",
        "\n",
        "# Convert string representations of dates to datetime64\n",
        "start_date = np.datetime64('2023-07-01')\n",
        "end_date = np.datetime64('2023-09-30')\n",
        "\n",
        "# Select the dates falling within July to September\n",
        "jul_sep = dates[(dates >= start_date) & (dates <= end_date)]\n",
        "\n",
        "# Display the selected dates for July to September\n",
        "print(\"\\nDates from July to September 2023:\")\n",
        "print(jul_sep)\n",
        "\n",
        "\n",
        "# Convert string representations of dates to datetime64\n",
        "start_date = np.datetime64('2023-10-31')\n",
        "end_date = np.datetime64('2023-12-31')\n",
        "\n",
        "# Select the dates falling within October to December\n",
        "oct_dic = dates[(dates >= start_date) & (dates <= end_date)]\n",
        "\n",
        "# Display the selected dates for October to December\n",
        "print(\"\\nDates from October to December 2023:\")\n",
        "print(oct_dic)"
      ],
      "metadata": {
        "colab": {
          "base_uri": "https://localhost:8080/"
        },
        "id": "R8pyj15ji3SP",
        "outputId": "8e073b31-fc1d-4021-ccfc-419df788a077"
      },
      "execution_count": 27,
      "outputs": [
        {
          "output_type": "stream",
          "name": "stdout",
          "text": [
            "\n",
            "Dates from January to March 2023:\n",
            "['2023-01-01' '2023-01-02' '2023-01-03' '2023-01-04' '2023-01-05'\n",
            " '2023-01-06' '2023-01-07' '2023-01-08' '2023-01-09' '2023-01-10'\n",
            " '2023-01-11' '2023-01-12' '2023-01-13' '2023-01-14' '2023-01-15'\n",
            " '2023-01-16' '2023-01-17' '2023-01-18' '2023-01-19' '2023-01-20'\n",
            " '2023-01-21' '2023-01-22' '2023-01-23' '2023-01-24' '2023-01-25'\n",
            " '2023-01-26' '2023-01-27' '2023-01-28' '2023-01-29' '2023-01-30'\n",
            " '2023-01-31' '2023-02-01' '2023-02-02' '2023-02-03' '2023-02-04'\n",
            " '2023-02-05' '2023-02-06' '2023-02-07' '2023-02-08' '2023-02-09'\n",
            " '2023-02-10' '2023-02-11' '2023-02-12' '2023-02-13' '2023-02-14'\n",
            " '2023-02-15' '2023-02-16' '2023-02-17' '2023-02-18' '2023-02-19'\n",
            " '2023-02-20' '2023-02-21' '2023-02-22' '2023-02-23' '2023-02-24'\n",
            " '2023-02-25' '2023-02-26' '2023-02-27' '2023-02-28' '2023-03-01'\n",
            " '2023-03-02' '2023-03-03' '2023-03-04' '2023-03-05' '2023-03-06'\n",
            " '2023-03-07' '2023-03-08' '2023-03-09' '2023-03-10' '2023-03-11'\n",
            " '2023-03-12' '2023-03-13' '2023-03-14' '2023-03-15' '2023-03-16'\n",
            " '2023-03-17' '2023-03-18' '2023-03-19' '2023-03-20' '2023-03-21'\n",
            " '2023-03-22' '2023-03-23' '2023-03-24' '2023-03-25' '2023-03-26'\n",
            " '2023-03-27' '2023-03-28' '2023-03-29' '2023-03-30' '2023-03-31']\n",
            "\n",
            "Dates from July to September 2023:\n",
            "['2023-07-01' '2023-07-02' '2023-07-03' '2023-07-04' '2023-07-05'\n",
            " '2023-07-06' '2023-07-07' '2023-07-08' '2023-07-09' '2023-07-10'\n",
            " '2023-07-11' '2023-07-12' '2023-07-13' '2023-07-14' '2023-07-15'\n",
            " '2023-07-16' '2023-07-17' '2023-07-18' '2023-07-19' '2023-07-20'\n",
            " '2023-07-21' '2023-07-22' '2023-07-23' '2023-07-24' '2023-07-25'\n",
            " '2023-07-26' '2023-07-27' '2023-07-28' '2023-07-29' '2023-07-30'\n",
            " '2023-07-31' '2023-08-01' '2023-08-02' '2023-08-03' '2023-08-04'\n",
            " '2023-08-05' '2023-08-06' '2023-08-07' '2023-08-08' '2023-08-09'\n",
            " '2023-08-10' '2023-08-11' '2023-08-12' '2023-08-13' '2023-08-14'\n",
            " '2023-08-15' '2023-08-16' '2023-08-17' '2023-08-18' '2023-08-19'\n",
            " '2023-08-20' '2023-08-21' '2023-08-22' '2023-08-23' '2023-08-24'\n",
            " '2023-08-25' '2023-08-26' '2023-08-27' '2023-08-28' '2023-08-29'\n",
            " '2023-08-30' '2023-08-31' '2023-09-01' '2023-09-02' '2023-09-03'\n",
            " '2023-09-04' '2023-09-05' '2023-09-06' '2023-09-07' '2023-09-08'\n",
            " '2023-09-09' '2023-09-10' '2023-09-11' '2023-09-12' '2023-09-13'\n",
            " '2023-09-14' '2023-09-15' '2023-09-16' '2023-09-17' '2023-09-18'\n",
            " '2023-09-19' '2023-09-20' '2023-09-21' '2023-09-22' '2023-09-23'\n",
            " '2023-09-24' '2023-09-25' '2023-09-26' '2023-09-27' '2023-09-28'\n",
            " '2023-09-29' '2023-09-30']\n",
            "\n",
            "Dates from October to December 2023:\n",
            "['2023-10-31' '2023-11-01' '2023-11-02' '2023-11-03' '2023-11-04'\n",
            " '2023-11-05' '2023-11-06' '2023-11-07' '2023-11-08' '2023-11-09'\n",
            " '2023-11-10' '2023-11-11' '2023-11-12' '2023-11-13' '2023-11-14'\n",
            " '2023-11-15' '2023-11-16' '2023-11-17' '2023-11-18' '2023-11-19'\n",
            " '2023-11-20' '2023-11-21' '2023-11-22' '2023-11-23' '2023-11-24'\n",
            " '2023-11-25' '2023-11-26' '2023-11-27' '2023-11-28' '2023-11-29'\n",
            " '2023-11-30' '2023-12-01' '2023-12-02' '2023-12-03' '2023-12-04'\n",
            " '2023-12-05' '2023-12-06' '2023-12-07' '2023-12-08' '2023-12-09'\n",
            " '2023-12-10' '2023-12-11' '2023-12-12' '2023-12-13' '2023-12-14'\n",
            " '2023-12-15' '2023-12-16' '2023-12-17' '2023-12-18' '2023-12-19'\n",
            " '2023-12-20' '2023-12-21' '2023-12-22' '2023-12-23' '2023-12-24'\n",
            " '2023-12-25' '2023-12-26' '2023-12-27' '2023-12-28' '2023-12-29'\n",
            " '2023-12-30' '2023-12-31']\n"
          ]
        }
      ]
    },
    {
      "cell_type": "markdown",
      "source": [
        " # Exercise 9 : Data Conversion\n",
        " Demonstrate how to convert a NumPy array to a Pandas DataFrame and vice versa.\n"
      ],
      "metadata": {
        "id": "wbxxSdR-jIYg"
      }
    },
    {
      "cell_type": "code",
      "source": [
        "array = np.random.randint(1,10, size=20)\n",
        "arrray_df = pd.DataFrame({'Random_num': array})\n",
        "print(array_df)\n",
        "\n",
        "array_np = array_df.to_numpy()\n",
        "print(array_np)"
      ],
      "metadata": {
        "colab": {
          "base_uri": "https://localhost:8080/"
        },
        "id": "r6Ptl730jYg2",
        "outputId": "6ceb735a-755d-4004-d4d6-2417eae3001a"
      },
      "execution_count": 28,
      "outputs": [
        {
          "output_type": "stream",
          "name": "stdout",
          "text": [
            "    Random\n",
            "0        9\n",
            "1       18\n",
            "2       15\n",
            "3        3\n",
            "4       13\n",
            "5       13\n",
            "6        2\n",
            "7       11\n",
            "8        4\n",
            "9        4\n",
            "10       4\n",
            "11       9\n",
            "12      15\n",
            "13       2\n",
            "14       3\n",
            "15       2\n",
            "16      14\n",
            "17       9\n",
            "18       9\n",
            "19       4\n",
            "[[ 9]\n",
            " [18]\n",
            " [15]\n",
            " [ 3]\n",
            " [13]\n",
            " [13]\n",
            " [ 2]\n",
            " [11]\n",
            " [ 4]\n",
            " [ 4]\n",
            " [ 4]\n",
            " [ 9]\n",
            " [15]\n",
            " [ 2]\n",
            " [ 3]\n",
            " [ 2]\n",
            " [14]\n",
            " [ 9]\n",
            " [ 9]\n",
            " [ 4]]\n"
          ]
        }
      ]
    },
    {
      "cell_type": "markdown",
      "source": [
        "# 🌟 Exercise 10 : Basic Visualization\n",
        "\n",
        "Use Matplotlib to visualize a simple dataset created with NumPy (e.g., a line graph of random numbers)."
      ],
      "metadata": {
        "id": "B-MMnT13jorZ"
      }
    },
    {
      "cell_type": "code",
      "source": [
        "import matplotlib.pyplot as plt\n",
        "\n",
        "\n",
        "np.random.seed(0)\n",
        "x = np.linspace(0, 10, 100)\n",
        "y = np.random.randn(100)\n",
        "\n",
        "# Plot the random numbers as a line graph\n",
        "plt.figure(figsize=(8, 6))\n",
        "plt.plot(x, y, color='blue', linestyle='-', marker='o', markersize=5)  # Plot the line graph\n",
        "plt.title('Random Numbers')\n",
        "plt.xlabel('X')\n",
        "plt.ylabel('Y')\n",
        "plt.grid(True)\n",
        "plt.show()"
      ],
      "metadata": {
        "colab": {
          "base_uri": "https://localhost:8080/",
          "height": 564
        },
        "id": "gXgULPidjr8H",
        "outputId": "980d584a-374c-4391-d021-baa5100c72a0"
      },
      "execution_count": 29,
      "outputs": [
        {
          "output_type": "display_data",
          "data": {
            "text/plain": [
              "<Figure size 800x600 with 1 Axes>"
            ],
            "image/png": "[encoded data removed]"
          },
          "metadata": {}
        }
      ]
    },
    {
      "cell_type": "code",
      "source": [],
      "metadata": {
        "id": "DQD2U8G6j8WA"
      },
      "execution_count": null,
      "outputs": []
    }
  ]
}